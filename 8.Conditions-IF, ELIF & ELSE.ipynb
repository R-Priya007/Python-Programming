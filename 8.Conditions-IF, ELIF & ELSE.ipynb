{
 "cells": [
  {
   "cell_type": "markdown",
   "metadata": {},
   "source": [
    "# if condition"
   ]
  },
  {
   "cell_type": "code",
   "execution_count": null,
   "metadata": {},
   "outputs": [],
   "source": [
    "\"\"\"\n",
    "syntax of if\n",
    "\n",
    "if(condition/s):\n",
    "    statement1\n",
    "    statement2\n",
    "    ..........\n",
    "\"\"\""
   ]
  },
  {
   "cell_type": "code",
   "execution_count": 6,
   "metadata": {},
   "outputs": [
    {
     "name": "stdout",
     "output_type": "stream",
     "text": [
      "Both are same\n"
     ]
    }
   ],
   "source": [
    "#Example1\n",
    "num1 = 5\n",
    "num2 = 5\n",
    "if(num1==num2):\n",
    "    print(\"Both are same\")"
   ]
  },
  {
   "cell_type": "code",
   "execution_count": 7,
   "metadata": {},
   "outputs": [
    {
     "name": "stdout",
     "output_type": "stream",
     "text": [
      "Both are different\n"
     ]
    }
   ],
   "source": [
    "#Example2\n",
    "num1 = 5\n",
    "num2 = 10\n",
    "if(num1 != num2):\n",
    "    print(\"Both are different\")"
   ]
  },
  {
   "cell_type": "markdown",
   "metadata": {},
   "source": [
    "# Indentation"
   ]
  },
  {
   "cell_type": "markdown",
   "metadata": {},
   "source": [
    "\n",
    "whitespace at the beginning of a line\n"
   ]
  },
  {
   "cell_type": "code",
   "execution_count": 10,
   "metadata": {},
   "outputs": [
    {
     "ename": "IndentationError",
     "evalue": "expected an indented block (<ipython-input-10-60655f72171a>, line 5)",
     "output_type": "error",
     "traceback": [
      "\u001b[1;36m  File \u001b[1;32m\"<ipython-input-10-60655f72171a>\"\u001b[1;36m, line \u001b[1;32m5\u001b[0m\n\u001b[1;33m    print(\"Both are diff\")  #Error\u001b[0m\n\u001b[1;37m    ^\u001b[0m\n\u001b[1;31mIndentationError\u001b[0m\u001b[1;31m:\u001b[0m expected an indented block\n"
     ]
    }
   ],
   "source": [
    "#Ex1)\n",
    "num1 = 5\n",
    "num2 = 10\n",
    "if(num1 != num2):\n",
    "print(\"Both are diff\")  #Error\n"
   ]
  },
  {
   "cell_type": "code",
   "execution_count": 12,
   "metadata": {},
   "outputs": [
    {
     "name": "stdout",
     "output_type": "stream",
     "text": [
      "Both are diff\n",
      "Invalid\n"
     ]
    }
   ],
   "source": [
    "#Ex2)\n",
    "num1 = 5\n",
    "num2 = 10\n",
    "if(num1 != num2):\n",
    "    print(\"Both are diff\") \n",
    "        print(\"Invalid\") #Error\n"
   ]
  },
  {
   "cell_type": "code",
   "execution_count": 15,
   "metadata": {},
   "outputs": [
    {
     "name": "stdout",
     "output_type": "stream",
     "text": [
      "Both are diff\n",
      "Invalid\n"
     ]
    }
   ],
   "source": [
    "#Ex3)\n",
    "num1 = 5\n",
    "num2 = 10\n",
    "if(num1 != num2):\n",
    "        print(\"Both are diff\") \n",
    "    print(\"Invalid\")#Error"
   ]
  },
  {
   "cell_type": "code",
   "execution_count": 16,
   "metadata": {},
   "outputs": [
    {
     "name": "stdout",
     "output_type": "stream",
     "text": [
      "Both are diff\n",
      "Invalid\n"
     ]
    }
   ],
   "source": [
    "#Ex4)\n",
    "num1 = 5\n",
    "num2 = 10\n",
    "if(num1 != num2):\n",
    "    print(\"Both are diff\") \n",
    "    print(\"Invalid\")\n"
   ]
  },
  {
   "cell_type": "markdown",
   "metadata": {},
   "source": [
    "# if.. else.."
   ]
  },
  {
   "cell_type": "code",
   "execution_count": null,
   "metadata": {},
   "outputs": [],
   "source": [
    "\"\"\"\n",
    "syntax of if else\n",
    "\n",
    "if(condition/s):\n",
    "    statement1\n",
    "    statement2\n",
    "    ..........\n",
    "else:\n",
    "    statement1\n",
    "    statement2\n",
    "    ..........\n",
    "\"\"\""
   ]
  },
  {
   "cell_type": "code",
   "execution_count": 17,
   "metadata": {},
   "outputs": [
    {
     "name": "stdout",
     "output_type": "stream",
     "text": [
      "Not equal\n"
     ]
    }
   ],
   "source": [
    "#Ex1) \n",
    "num1 = 10\n",
    "num2 = 5\n",
    "if(num1 == num2):\n",
    "    print(\"Equal\")\n",
    "else:\n",
    "    print(\"Not equal\")\n",
    "\n"
   ]
  },
  {
   "cell_type": "code",
   "execution_count": 19,
   "metadata": {},
   "outputs": [
    {
     "name": "stdout",
     "output_type": "stream",
     "text": [
      "True\n"
     ]
    }
   ],
   "source": [
    "#Ex2)\n",
    "num1 = 10\n",
    "num2 = 5\n",
    "if(num1 > num2):\n",
    "    print(\"True\")\n",
    "else:\n",
    "    print(\"False\")"
   ]
  },
  {
   "cell_type": "markdown",
   "metadata": {},
   "source": [
    "# if .. elif .. else\n"
   ]
  },
  {
   "cell_type": "code",
   "execution_count": null,
   "metadata": {},
   "outputs": [],
   "source": [
    "\"\"\"\n",
    "syntax of if else\n",
    "\n",
    "if(condition/s):\n",
    "    statement1\n",
    "    statement2\n",
    "    ..........\n",
    "elif(condition/s):\n",
    "    statement1\n",
    "    statement2\n",
    "    ..........\n",
    "else:\n",
    "    statement1\n",
    "    statement2\n",
    "    ..........\n",
    "\"\"\""
   ]
  },
  {
   "cell_type": "code",
   "execution_count": 20,
   "metadata": {},
   "outputs": [
    {
     "name": "stdout",
     "output_type": "stream",
     "text": [
      "Less than\n"
     ]
    }
   ],
   "source": [
    "#Ex1)\n",
    "num1 = 5\n",
    "num2 = 10\n",
    "if(num1 == num2):\n",
    "    print(\"Equal\")\n",
    "elif(num1 > num2):\n",
    "    print(\"Greater than\")\n",
    "else:\n",
    "    print(\"Less than\")"
   ]
  },
  {
   "cell_type": "markdown",
   "metadata": {},
   "source": [
    "# Multiple conditions"
   ]
  },
  {
   "cell_type": "markdown",
   "metadata": {},
   "source": [
    "by using or & and operators"
   ]
  },
  {
   "cell_type": "code",
   "execution_count": 20,
   "metadata": {},
   "outputs": [
    {
     "name": "stdout",
     "output_type": "stream",
     "text": [
      "Not satisfied\n"
     ]
    }
   ],
   "source": [
    "#Ex1) or\n",
    "# it should be positive\n",
    "# or it should be divisible by 2\n",
    "# or it should be divisible by 3\n",
    "num1 = 9\n",
    "if(num1>10 or num1%2==0 ):\n",
    "    print(\"Satisfied\")\n",
    "else:\n",
    "    print(\"Not satisfied\")"
   ]
  },
  {
   "cell_type": "code",
   "execution_count": 23,
   "metadata": {},
   "outputs": [
    {
     "name": "stdout",
     "output_type": "stream",
     "text": [
      "satisfied\n"
     ]
    }
   ],
   "source": [
    "#Ex2) and\n",
    "num1 = 6\n",
    "if(num1>0 and num1%2==0 and num1%3==0):\n",
    "    print(\"satisfied\")\n",
    "else:\n",
    "    print(\"Not satisfied\")"
   ]
  },
  {
   "cell_type": "markdown",
   "metadata": {},
   "source": [
    "# Nested if else"
   ]
  },
  {
   "cell_type": "code",
   "execution_count": 28,
   "metadata": {},
   "outputs": [
    {
     "name": "stdout",
     "output_type": "stream",
     "text": [
      "Positive num\n",
      "divisible by 2\n"
     ]
    }
   ],
   "source": [
    "#Ex1)\n",
    "num1 = 6\n",
    "if(num1>0):\n",
    "    print(\"Positive num\")\n",
    "    if(num1%2==0):\n",
    "        print(\"divisible by 2\")\n",
    "    elif(num1%3==0):\n",
    "        print(\"Divisible by 3\")\n",
    "    else:\n",
    "        print(\"Npot divisible by 2 or 3\")\n",
    "else:\n",
    "    print(\"Negative num\")"
   ]
  },
  {
   "cell_type": "code",
   "execution_count": null,
   "metadata": {},
   "outputs": [],
   "source": []
  }
 ],
 "metadata": {
  "kernelspec": {
   "display_name": "Python 3",
   "language": "python",
   "name": "python3"
  },
  "language_info": {
   "codemirror_mode": {
    "name": "ipython",
    "version": 3
   },
   "file_extension": ".py",
   "mimetype": "text/x-python",
   "name": "python",
   "nbconvert_exporter": "python",
   "pygments_lexer": "ipython3",
   "version": "3.8.3"
  }
 },
 "nbformat": 4,
 "nbformat_minor": 4
}
