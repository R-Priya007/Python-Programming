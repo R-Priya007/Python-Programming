{
 "cells": [
  {
   "cell_type": "markdown",
   "metadata": {},
   "source": [
    "1.Python Variables"
   ]
  },
  {
   "cell_type": "code",
   "execution_count": null,
   "metadata": {},
   "outputs": [],
   "source": [
    "#No need to declare the data type of variable in Python\n",
    "#Same variable use to hold different types of data\n",
    "#Example1\n",
    "x = \"Programming\" \n",
    "y = \"10\"\n",
    "print(y)"
   ]
  },
  {
   "cell_type": "code",
   "execution_count": null,
   "metadata": {},
   "outputs": [],
   "source": [
    "type(y)"
   ]
  },
  {
   "cell_type": "markdown",
   "metadata": {},
   "source": [
    "2.Convention for naming variables"
   ]
  },
  {
   "cell_type": "code",
   "execution_count": null,
   "metadata": {},
   "outputs": [],
   "source": [
    "#Variables names are case-sensitive\n",
    "#variables name contain only Alpha,numeric & Underscore (e.g:- a-z,A-Z,0-9 & _)\n",
    "#Example2\n",
    "AGE = 10\n",
    "age = 20\n",
    "Age = 30\n",
    "print(Age)"
   ]
  },
  {
   "cell_type": "code",
   "execution_count": null,
   "metadata": {},
   "outputs": [],
   "source": [
    "#Example3\n",
    "#Variable names must start with a letter or underscore.\n",
    "#variable name cannot start with a number.\n",
    "#LEGAL\n",
    "myvar = \"Python\"\n",
    "Myvar = \"Python\"\n",
    "MYVAR = \"Python\"\n",
    "_Myvar = \"Python\"\n",
    "#ILLEGAL\n",
    "#2myvar = \"Python\"\n",
    "#my var = \"Python\"\n",
    "print(Myvar)"
   ]
  },
  {
   "cell_type": "markdown",
   "metadata": {},
   "source": [
    "3.Python print() Function"
   ]
  },
  {
   "cell_type": "code",
   "execution_count": null,
   "metadata": {},
   "outputs": [],
   "source": [
    "#print() function prints the specified message to the screen\n",
    "#Message can be a string or any other object, the object will be converted into a string before written to the screen.\n",
    "#Example4\n",
    "print(\"Python\")"
   ]
  },
  {
   "cell_type": "markdown",
   "metadata": {},
   "source": [
    "4.End Paramater"
   ]
  },
  {
   "cell_type": "code",
   "execution_count": null,
   "metadata": {},
   "outputs": [],
   "source": [
    "#End Parameter\n",
    "First_name = \"Ranjith\"\n",
    "Last_name = \"Priya\"\n",
    "print(First_name,end = '.')\n",
    "print(Last_name)"
   ]
  },
  {
   "cell_type": "code",
   "execution_count": null,
   "metadata": {},
   "outputs": [],
   "source": [
    "#print() Example\n",
    "Name =\"R.Priya\"\n",
    "print(\"My name is \" +Name)"
   ]
  },
  {
   "cell_type": "code",
   "execution_count": null,
   "metadata": {},
   "outputs": [],
   "source": [
    "#Example\n",
    "brother1 = \"Harish\"\n",
    "brother2 = \"Siddhu\"\n",
    "print(\"I have 2 brothers, Elder brother name is \"+brother1+ \"younger brother name is \"+brother2)"
   ]
  },
  {
   "cell_type": "markdown",
   "metadata": {},
   "source": [
    "5.format"
   ]
  },
  {
   "cell_type": "code",
   "execution_count": null,
   "metadata": {},
   "outputs": [],
   "source": [
    "#print .format()\n",
    "#Example\n",
    "brother1 = \"Harish\"\n",
    "brother2 = \"Siddhu\"\n",
    "print(\"I have 2 brothers, Elder brother name is {} younger brother name is {}\" .format(brother1,brother2))"
   ]
  },
  {
   "cell_type": "markdown",
   "metadata": {},
   "source": [
    "6.Python Comments\n",
    "* Comments can be used to explain Python code.\n",
    "* Comments can be used to make the code more readable.\n",
    "* Comments can be used to prevent execution when testing code.\n"
   ]
  },
  {
   "cell_type": "markdown",
   "metadata": {},
   "source": [
    "\"#\" is used for single line comment.Python will ignore the lines starting with \"#\""
   ]
  },
  {
   "cell_type": "code",
   "execution_count": 1,
   "metadata": {},
   "outputs": [
    {
     "name": "stdout",
     "output_type": "stream",
     "text": [
      "Hello world\n"
     ]
    }
   ],
   "source": [
    "#Python Comments----->This is a python comment example\n",
    "print(\"Hello world\") "
   ]
  },
  {
   "cell_type": "code",
   "execution_count": 2,
   "metadata": {},
   "outputs": [
    {
     "name": "stdout",
     "output_type": "stream",
     "text": [
      "Python\n"
     ]
    }
   ],
   "source": [
    "print(\"Python\") #You can use here as well...!"
   ]
  },
  {
   "cell_type": "code",
   "execution_count": 4,
   "metadata": {},
   "outputs": [
    {
     "name": "stdout",
     "output_type": "stream",
     "text": [
      "Hello world\n",
      "Maths\n"
     ]
    }
   ],
   "source": [
    "print(\"Hello world\") \n",
    "print(\"Maths\")\n",
    "#print(\"Python Programming\")"
   ]
  },
  {
   "cell_type": "code",
   "execution_count": 7,
   "metadata": {},
   "outputs": [
    {
     "name": "stdout",
     "output_type": "stream",
     "text": [
      "Hello\n",
      "Python Programming\n"
     ]
    }
   ],
   "source": [
    "\"\"\"\n",
    "Use in the\n",
    "beginning of the\n",
    "line\n",
    "Example\n",
    "\"\"\"\n",
    "print(\"Hello\")\n",
    "print(\"Python Programming\")"
   ]
  },
  {
   "cell_type": "code",
   "execution_count": 8,
   "metadata": {},
   "outputs": [
    {
     "name": "stdout",
     "output_type": "stream",
     "text": [
      "Hello world..!\n"
     ]
    }
   ],
   "source": [
    "'''\n",
    "Use in the\n",
    "beginning of the\n",
    "line\n",
    "'''\n",
    "print(\"Hello world..!\")"
   ]
  },
  {
   "cell_type": "code",
   "execution_count": null,
   "metadata": {},
   "outputs": [],
   "source": []
  },
  {
   "cell_type": "markdown",
   "metadata": {},
   "source": [
    "7.input()"
   ]
  },
  {
   "cell_type": "code",
   "execution_count": 10,
   "metadata": {},
   "outputs": [
    {
     "name": "stdout",
     "output_type": "stream",
     "text": [
      "Enter your name: World\n",
      "Hello World\n"
     ]
    }
   ],
   "source": [
    "#input() funcion allows us to take input from the user\n",
    "#Example\n",
    "name = input(\"Enter your name: \")\n",
    "print(\"Hello {}\" .format(name))"
   ]
  },
  {
   "cell_type": "code",
   "execution_count": 11,
   "metadata": {},
   "outputs": [
    {
     "name": "stdout",
     "output_type": "stream",
     "text": [
      "Enter first number:10\n",
      "Enter second number:20\n",
      "Addition of 10 and 20 is 1020\n"
     ]
    }
   ],
   "source": [
    "#Example2\n",
    "Num1 = input(\"Enter first number:\")\n",
    "Num2 = input(\"Enter second number:\")\n",
    "Num3 = Num1 + Num2\n",
    "print(\"Addition of {} and {} is {}\" .format(Num1,Num2,Num3))\n"
   ]
  },
  {
   "cell_type": "code",
   "execution_count": 12,
   "metadata": {},
   "outputs": [
    {
     "name": "stdout",
     "output_type": "stream",
     "text": [
      "Enter first number:10\n",
      "Enter second number:20\n",
      "Addition of 10 and 20 is 30\n"
     ]
    }
   ],
   "source": [
    "#Example2\n",
    "Num1 = input(\"Enter first number:\")\n",
    "Num1 = int(Num1)#It use for change string to num\n",
    "Num2 = int(input(\"Enter second number:\"))#Another method to change string to num\n",
    "Num3 = Num1 + Num2\n",
    "print(\"Addition of {} and {} is {}\" .format(Num1,Num2,Num3))\n"
   ]
  },
  {
   "cell_type": "code",
   "execution_count": null,
   "metadata": {},
   "outputs": [],
   "source": []
  }
 ],
 "metadata": {
  "kernelspec": {
   "display_name": "Python 3",
   "language": "python",
   "name": "python3"
  },
  "language_info": {
   "codemirror_mode": {
    "name": "ipython",
    "version": 3
   },
   "file_extension": ".py",
   "mimetype": "text/x-python",
   "name": "python",
   "nbconvert_exporter": "python",
   "pygments_lexer": "ipython3",
   "version": "3.8.3"
  }
 },
 "nbformat": 4,
 "nbformat_minor": 4
}
